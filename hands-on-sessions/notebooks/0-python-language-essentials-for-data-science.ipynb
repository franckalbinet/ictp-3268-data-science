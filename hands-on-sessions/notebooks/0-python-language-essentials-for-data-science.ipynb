{
 "cells": [
  {
   "cell_type": "markdown",
   "metadata": {},
   "source": [
    "# PYTHON LANGUAGE ESSENTIALS FOR DATA SCIENCE\n",
    "<a id='pres-title'></a>"
   ]
  },
  {
   "cell_type": "markdown",
   "metadata": {},
   "source": [
    "## Table of content\n",
    "* [I. INTRODUCTION](#introduction)\n",
    "* [II. PYTHON PROGRAMMING PRIMER](#python-primer)\n",
    "* [III. PYTHON'S LIFELINE](#python-lifeline)\n",
    "* [IV. IDIOMATIC PYTHON](#idiomatic-python)"
   ]
  },
  {
   "cell_type": "markdown",
   "metadata": {},
   "source": [
    "# I. INTRODUCTION\n",
    "<a id=\"introduction\"></a>\n",
    "___\n",
    "\n",
    "> Debugging is twice as hard as writing the code in the first place. Therefore, if you write the code as cleverly as possible, you are, by definition, not smart enough to debug it.\n",
    "\n",
    "—Brian W. Kernighan, co-author of The C Programming Language and the \"K\" in \"AWK\"\n",
    "\n",
    "### Notes\n",
    "* In other words, keep your programs simple!"
   ]
  },
  {
   "cell_type": "markdown",
   "metadata": {},
   "source": [
    "## ▸ Main objectives\n",
    "___\n",
    "\n",
    "* Understanding Python language design **philosophy** and idioms\n",
    "* Becoming **proficient** at working with data in Python\n",
    "* Knowledge of Python data science **ecosystem**\n",
    "\n",
    "### References\n",
    "* Companion notebook: FM7/notebooks/2-python-language-essentials-for-data-science.ipynb\n",
    "\n",
    "### Notes\n",
    "* This presentation intends to give the gist of Python for data analysis\n",
    "* Focus on syntax, idioms relevant to Data Science\n",
    "* Becoming proficient is essentially a matter of daily practice, as we do in natural language learning\n",
    "* Killer feature of Python is more its ecosystem than it syntax (though easy to grasp as well)\n",
    "* We will cover more or less Python built-in objects, methods and fundamentals language constructs in that presentation. \n",
    "* The SciPy suites of tools: Numpy, Pandas and Matplotlib will be covered in subsequent presentations/topics: Data transformation and EDA and will use Scikit-learn and Keras for ML and DL "
   ]
  },
  {
   "cell_type": "markdown",
   "metadata": {},
   "source": [
    "## ▸ Course logistics\n",
    "___\n",
    "\n",
    "* **Python 3.x** will be used throughout the module\n",
    "* **Jupyter Notebooks** will be used to write, execute and document Python code\n",
    "* This is **not an exhaustive** introduction to the Python language (see references)\n",
    "\n",
    "\n",
    "### References\n",
    "* https://docs.python.org/3.5\n",
    "* https://docs.python.org/3/tutorial/index.html\n",
    "* FM7/references/python-fundamentals (series of Jupyter Notebooks)\n",
    "\n",
    "### Notes\n",
    "* Companion Jupyter interactive notebooks accompanying this presentation are available\n",
    "* Poking around is key to a successful learning process. By poking around we mean executing, modifying, experimenting new features using Companion Jupyter notebooks\n",
    "* Note that **Python 2.7** is still used extensively. Though Python 3 implements some minor backward incompatible changes the __future__ module allows to import Python 3 function, methods, ... into Python 2.7 for the sake of portability"
   ]
  },
  {
   "cell_type": "markdown",
   "metadata": {},
   "source": [
    "## ▸ Why Python?\n",
    "___\n",
    "\n",
    "* **General purpose** programming language\n",
    "* Meant to be **easy to read and learn**\n",
    "* **Extensive ecosystem** for Data Science is a killer feature\n",
    "* **Interactive and incremental development**\n",
    "\n",
    "\n",
    "### Notes\n",
    "* Python is widely used both in R&D and in production\n",
    "* Python may become the dominant platform for Machine Learning and Deep Learning\n",
    "* Clear syntax captured by the ZEN of python (see below)\n",
    "* Python has been ported “MicroPython” in such a way that it can be run in IoT devices as well\n",
    "* Why not R, SAS, Matlab, Scala ...: in reality, switching from one language to the other is a daily routine for most Data Scientists. You might have your preference, but being able to switch from one language to the other is core Data Scientist competence\n",
    "* By interactive and incremental development, we mean the following. We construct a program state: objects, functions, methods, then try applying the functions, if satisfied, go on to next level, if not, change and repeat. Each part can be verified one by one. We are keeping development cycle very iterative. It can be compared in contrast with C/Java development: design the program, compile, run, pray, ... oops... try to find the first bug, modify, re-compiule, ..."
   ]
  },
  {
   "cell_type": "markdown",
   "metadata": {},
   "source": [
    "## ▸ Python ecosystem used in FM7 module\n",
    "___\n",
    "\n",
    "* **Numpy**: high performance scientific computing \n",
    "\n",
    "\n",
    "* **Pandas**: high-level data structures and manipulation tools\n",
    "\n",
    "\n",
    "* **Matplotlib**: Data Visualization\n",
    "\n",
    "\n",
    "* **Scikit-learn**: Machine Learning\n",
    "\n",
    "\n",
    "* **Keras**: Deep Learning\n",
    "\n",
    "\n",
    "### References\n",
    "\n",
    "* https://www.scipy.org/ (Numpy, Pandas, Matplotlib, ...)\n",
    "\n",
    "* [http://scikit-learn.org/](http://scikit-learn.org/)\n",
    "\n",
    "* [https://keras.io/](https://keras.io/)\n",
    "\n",
    "\n",
    "### Notes\n",
    "* Numpy is a fundamental package in the Python Data Science stack as many others are built on top of it: Pandas, Scikit-learn, … Essential for Deep Learning as well as will be seen in subsequent courses.\n",
    "* Pandas is extremely useful for exploratory data analysis\n",
    "* Matplotlib is a low level highly flexible plotting package\n",
    "* All packages will be used extensively throughout FM7 module\n",
    "* Numpy, Pandas and Matplotlib are parts of the SciPy Python-based ecosystem of open-source software for mathematics, science, and engineering"
   ]
  },
  {
   "cell_type": "markdown",
   "metadata": {},
   "source": [
    "# II. PYTHON PROGRAMMING PRIMER\n",
    "<a id=\"python-primer\"></a>\n",
    "___"
   ]
  },
  {
   "cell_type": "markdown",
   "metadata": {},
   "source": [
    "## ▸ A program “does things with stuffs”\n",
    "___\n",
    "\n",
    "* In Python: stuffs are **objects**\n",
    "* you do things with **objects** using **statements**\n",
    "\n",
    "\n",
    "\n",
    "### Notes\n",
    "* Obviously this is loosely speaking but convenient as a mental model"
   ]
  },
  {
   "cell_type": "markdown",
   "metadata": {},
   "source": [
    "## ▸ What is an object?\n",
    "___\n",
    "\n",
    "* A piece of **memory**, with **value(s)**\n",
    "* and sets of associated **methods** that can modify these value(s)\n",
    "\n",
    "\n",
    "### Notes\n",
    "* An object can be as simple (atomic) as a string of letters with methods being to capitalize them, make it uppercase, …\n",
    "* Or abstract like a Machine learning, deep learning model, …\n"
   ]
  },
  {
   "cell_type": "markdown",
   "metadata": {},
   "source": [
    "## ▸ Python Objects [Notebook Live Demo]\n",
    "___\n",
    "\n",
    "* What is essentially an object?\n",
    "* Python built-in types: Boolean, Numeric, Sequences, Dictionary, ...\n",
    "* Compose built-in types into useful data structures\n",
    "* Expressions and dynamic typing,\n",
    "* ...\n",
    "\n",
    "### References\n",
    "* https://docs.python.org/3/library/stdtypes.html\n",
    "\n",
    "### Notes\n",
    "* [Teacher] Dedicate 15-30 min to the code snippet below showing and executing code live\n",
    "* [Student] Be sure to run and understand the following code snippets before answering module's assignment"
   ]
  },
  {
   "cell_type": "markdown",
   "metadata": {},
   "source": [
    "#### *Creating an object*"
   ]
  },
  {
   "cell_type": "code",
   "execution_count": 1,
   "metadata": {},
   "outputs": [
    {
     "data": {
      "text/plain": [
       "'internet of things'"
      ]
     },
     "execution_count": 1,
     "metadata": {},
     "output_type": "execute_result"
    }
   ],
   "source": [
    "# Here below a string literal\n",
    "'internet of things'"
   ]
  },
  {
   "cell_type": "markdown",
   "metadata": {},
   "source": [
    "#### *Where is the object?*"
   ]
  },
  {
   "cell_type": "code",
   "execution_count": 2,
   "metadata": {
    "scrolled": true
   },
   "outputs": [
    {
     "data": {
      "text/plain": [
       "'0x110fe86f0'"
      ]
     },
     "execution_count": 2,
     "metadata": {},
     "output_type": "execute_result"
    }
   ],
   "source": [
    "# Let's check object's address in memory\n",
    "hex(id('internet of things'))"
   ]
  },
  {
   "cell_type": "markdown",
   "metadata": {},
   "source": [
    "####   *What's its type?*"
   ]
  },
  {
   "cell_type": "code",
   "execution_count": 3,
   "metadata": {
    "scrolled": true
   },
   "outputs": [
    {
     "data": {
      "text/plain": [
       "str"
      ]
     },
     "execution_count": 3,
     "metadata": {},
     "output_type": "execute_result"
    }
   ],
   "source": [
    "type('internet of things')"
   ]
  },
  {
   "cell_type": "markdown",
   "metadata": {},
   "source": [
    "####   *Use one of its method*"
   ]
  },
  {
   "cell_type": "code",
   "execution_count": 4,
   "metadata": {},
   "outputs": [
    {
     "data": {
      "text/plain": [
       "'INTERNET OF THINGS'"
      ]
     },
     "execution_count": 4,
     "metadata": {},
     "output_type": "execute_result"
    }
   ],
   "source": [
    "# the object has among many others the following method\n",
    "'internet of things'.upper()"
   ]
  },
  {
   "cell_type": "markdown",
   "metadata": {},
   "source": [
    "#### **Boolean type**"
   ]
  },
  {
   "cell_type": "code",
   "execution_count": 5,
   "metadata": {},
   "outputs": [
    {
     "data": {
      "text/plain": [
       "bool"
      ]
     },
     "execution_count": 5,
     "metadata": {},
     "output_type": "execute_result"
    }
   ],
   "source": [
    "# Boolean: True, False\n",
    "type(False)"
   ]
  },
  {
   "cell_type": "markdown",
   "metadata": {},
   "source": [
    "#### **Numeric type**"
   ]
  },
  {
   "cell_type": "code",
   "execution_count": 28,
   "metadata": {},
   "outputs": [
    {
     "data": {
      "text/plain": [
       "float"
      ]
     },
     "execution_count": 28,
     "metadata": {},
     "output_type": "execute_result"
    }
   ],
   "source": [
    "# Numeric types: int, float, complex\n",
    "type(4.534876)"
   ]
  },
  {
   "cell_type": "markdown",
   "metadata": {},
   "source": [
    "#### **Sequence type**"
   ]
  },
  {
   "cell_type": "code",
   "execution_count": 29,
   "metadata": {},
   "outputs": [
    {
     "data": {
      "text/plain": [
       "list"
      ]
     },
     "execution_count": 29,
     "metadata": {},
     "output_type": "execute_result"
    }
   ],
   "source": [
    "# Sequence types: str, list, tuple, range\n",
    "type([1, 4, 6, 'spam'])"
   ]
  },
  {
   "cell_type": "markdown",
   "metadata": {},
   "source": [
    "#### **Mapping/dictionary type**"
   ]
  },
  {
   "cell_type": "code",
   "execution_count": 30,
   "metadata": {},
   "outputs": [
    {
     "data": {
      "text/plain": [
       "dict"
      ]
     },
     "execution_count": 30,
     "metadata": {},
     "output_type": "execute_result"
    }
   ],
   "source": [
    "# Mapping types: dict\n",
    "type({'year': '2017', 'country': 'France', 'population': 65})"
   ]
  },
  {
   "cell_type": "markdown",
   "metadata": {},
   "source": [
    "#### Compose your own data structure"
   ]
  },
  {
   "cell_type": "code",
   "execution_count": 31,
   "metadata": {},
   "outputs": [
    {
     "data": {
      "text/plain": [
       "[{'year': '2017', 'ctry': 'France', 'pop': 65},\n",
       " {'year': '2017', 'ctry': 'Rwanda', 'pop': 13},\n",
       " {'year': '2017', 'ctry': 'Thailand', 'pop': 69},\n",
       " {'year': '2017', 'ctry': 'Venezuela', 'pop': 30}]"
      ]
     },
     "execution_count": 31,
     "metadata": {},
     "output_type": "execute_result"
    }
   ],
   "source": [
    "# A list of dictionaries\n",
    "[{'year': '2017', 'ctry': 'France', 'pop': 65},\n",
    " {'year': '2017', 'ctry': 'Rwanda', 'pop': 13},\n",
    " {'year': '2017', 'ctry': 'Thailand', 'pop': 69},\n",
    " {'year': '2017', 'ctry': 'Venezuela', 'pop': 30}]"
   ]
  },
  {
   "cell_type": "markdown",
   "metadata": {},
   "source": [
    "#### Expressions & dynamic typing"
   ]
  },
  {
   "cell_type": "code",
   "execution_count": 32,
   "metadata": {},
   "outputs": [
    {
     "data": {
      "text/plain": [
       "8.23"
      ]
     },
     "execution_count": 32,
     "metadata": {},
     "output_type": "execute_result"
    }
   ],
   "source": [
    "# Three built-in objects (implicit conversions)\n",
    "a = 2\n",
    "b = 5.23\n",
    "c = True\n",
    "\n",
    "# An expression \n",
    "a + b + c"
   ]
  },
  {
   "cell_type": "markdown",
   "metadata": {},
   "source": [
    "#### Python as a strongly-typed language"
   ]
  },
  {
   "cell_type": "code",
   "execution_count": 33,
   "metadata": {},
   "outputs": [
    {
     "ename": "TypeError",
     "evalue": "must be str, not int",
     "output_type": "error",
     "traceback": [
      "\u001b[0;31m---------------------------------------------------------------------------\u001b[0m",
      "\u001b[0;31mTypeError\u001b[0m                                 Traceback (most recent call last)",
      "\u001b[0;32m<ipython-input-33-ee635f4a1769>\u001b[0m in \u001b[0;36m<module>\u001b[0;34m()\u001b[0m\n\u001b[1;32m      1\u001b[0m \u001b[0;31m# Some other objects of different types might not add up\u001b[0m\u001b[0;34m\u001b[0m\u001b[0;34m\u001b[0m\u001b[0m\n\u001b[0;32m----> 2\u001b[0;31m \u001b[0;34m'5'\u001b[0m \u001b[0;34m+\u001b[0m \u001b[0;36m5\u001b[0m\u001b[0;34m\u001b[0m\u001b[0m\n\u001b[0m",
      "\u001b[0;31mTypeError\u001b[0m: must be str, not int"
     ]
    }
   ],
   "source": [
    "# Some other objects of different types might not add up\n",
    "'5' + 5"
   ]
  },
  {
   "cell_type": "markdown",
   "metadata": {},
   "source": [
    "#### Explicit type conversions"
   ]
  },
  {
   "cell_type": "code",
   "execution_count": null,
   "metadata": {},
   "outputs": [],
   "source": [
    "# Convert an int to a str\n",
    "str(1)"
   ]
  },
  {
   "cell_type": "code",
   "execution_count": null,
   "metadata": {},
   "outputs": [],
   "source": [
    "# Convert a float to an integer\n",
    "int(3.14)"
   ]
  },
  {
   "cell_type": "code",
   "execution_count": null,
   "metadata": {},
   "outputs": [],
   "source": [
    "# Convert a string to a float\n",
    "float('3.14')"
   ]
  },
  {
   "cell_type": "markdown",
   "metadata": {},
   "source": [
    "## ▸ From built-in to domain-specific types\n",
    "___\n",
    "\n",
    "* Built-in Python types are the **building blocks** of any Python program\n",
    "* In complement, Domain-specific packages provides extremely convenient abstract types\n",
    "\n",
    "\n",
    "### Notes\n",
    "* For instance NumPy provides: ndarray\n",
    "* Pandas: dataFrame\n",
    "* Scikit-learn: models\n",
    "* Keras: Neural Network layers\n"
   ]
  },
  {
   "cell_type": "markdown",
   "metadata": {},
   "source": [
    "## ▸ Typed languages\n",
    "___\n",
    "\n",
    "* If you come from a **C world**, you are used whenever you create a new variable to **declare its type**\n",
    "* This is **not the case in Python**\n",
    "* **However, Python objects do have types** and implicit conversion take place when relevant\n",
    "\n",
    "\n",
    "### Notes\n",
    "* Implicit conversions is somewhat convenient but it means as well that we need to know what can of implicit conversion to expect. \n",
    "* Some observers might conclude that Python is not a “typed language” because there is no need to declare a variable and its type before its use (like in C-like language for instance) but one of the example above shows that actually this is strongly-typed (when trying to add '5' and 5)\n",
    "* This is important to discuss with students the endless debate \"... yes but explicit typing helps you catch bugs at compile time ...\""
   ]
  },
  {
   "cell_type": "markdown",
   "metadata": {},
   "source": [
    "## ▸ Mutable and immutable objects\n",
    "___\n",
    "\n",
    "* Most objects are **mutable**, such as lists, dicts, ...\n",
    "* Object(s) or value(s) that they contain can be modified.\n",
    "* In contrast, tuple, strings, ... are **immutable**.\n",
    "\n",
    "\n",
    "### Notes\n",
    "* One challenge of programming is to handle multitude of states. When different parts of your program can access and modify a same shared variable, keeping track of which part modidy what and when is essentially the biggest source of bug. Ensuring modularity, isolating states, ... is one important strategy to mitigate the risk.\n",
    "* Some programming language paradigm only allow immutable data types\n"
   ]
  },
  {
   "cell_type": "markdown",
   "metadata": {},
   "source": [
    "## ▸ Mutability [Notebook Live Demo]\n",
    "___\n",
    "\n",
    "* Mutating a list\n",
    "* Mutating a dictionary\n",
    "* Trying to mutate a string\n",
    "\n",
    "\n",
    "### Notes\n",
    "* [Teacher] Dedicate 5-10 min to the code snippet below showing and executing code live\n",
    "* [Student] Be sure to run and understand the following code snippets before answering module's assignment"
   ]
  },
  {
   "cell_type": "markdown",
   "metadata": {},
   "source": [
    "#### Mutating a List"
   ]
  },
  {
   "cell_type": "code",
   "execution_count": null,
   "metadata": {},
   "outputs": [],
   "source": [
    "# more details later on\n",
    "a_list = ['foo', 6, [3, 5]]"
   ]
  },
  {
   "cell_type": "code",
   "execution_count": null,
   "metadata": {},
   "outputs": [],
   "source": [
    "a_list[2] = 'spam'\n",
    "a_list.append(999)\n",
    "print(a_list)"
   ]
  },
  {
   "cell_type": "markdown",
   "metadata": {},
   "source": [
    "#### Mutating a Dictionary"
   ]
  },
  {
   "cell_type": "code",
   "execution_count": null,
   "metadata": {},
   "outputs": [],
   "source": [
    "# more details later on\n",
    "a_dict = {'year': 2017, 'ctry': 'France', 'pop': 65}"
   ]
  },
  {
   "cell_type": "code",
   "execution_count": null,
   "metadata": {},
   "outputs": [],
   "source": [
    "a_dict['year'] = 2011\n",
    "a_dict"
   ]
  },
  {
   "cell_type": "markdown",
   "metadata": {},
   "source": [
    "#### Trying to mutate a string"
   ]
  },
  {
   "cell_type": "code",
   "execution_count": null,
   "metadata": {},
   "outputs": [],
   "source": [
    "a_string = 'internet of things'\n",
    "a_string[0] = 'I'"
   ]
  },
  {
   "cell_type": "markdown",
   "metadata": {},
   "source": [
    "#### Tuple as an immutable version of list"
   ]
  },
  {
   "cell_type": "code",
   "execution_count": null,
   "metadata": {},
   "outputs": [],
   "source": [
    "a_tuple = ('foo', 6)"
   ]
  },
  {
   "cell_type": "code",
   "execution_count": null,
   "metadata": {},
   "outputs": [],
   "source": [
    "a_tuple[1] = 9"
   ]
  },
  {
   "cell_type": "markdown",
   "metadata": {},
   "source": [
    "## ▸ What is a statement?\n",
    "___\n",
    "\n",
    "* in simple terms, **statements** are the things you write to tell Python what your programs should do; for instance:\n",
    "* to create a binding (alias) to an object;\n",
    "* to implement branching rules (if/elif/..);\n",
    "* to iterate over elements of a list;\n",
    "* ...\n",
    "\n",
    "### References\n",
    "* https://docs.python.org/3/reference/simple_stmts.html\n",
    "\n",
    "### Notes\n",
    "* Function definition, function call, … are as well statements\n"
   ]
  },
  {
   "cell_type": "markdown",
   "metadata": {},
   "source": [
    "## ▸ Statements [Notebook Live Demo]\n",
    "___\n",
    "\n",
    "* Assignment\n",
    "* Conditional statement\n",
    "* Loops\n",
    "* ...\n",
    "\n",
    "\n",
    "### Notes\n",
    "* [Teacher] Dedicate 5-10 min to the code snippet below showing and executing code live\n",
    "* [Student] Be sure to run and understand the following code snippets before answering module's assignment"
   ]
  },
  {
   "cell_type": "markdown",
   "metadata": {},
   "source": [
    "#### Assignment: binding names to objects"
   ]
  },
  {
   "cell_type": "code",
   "execution_count": 34,
   "metadata": {},
   "outputs": [],
   "source": [
    "# Assignment of an object to the variable named 'topic'\n",
    "topic = 'internet of things' "
   ]
  },
  {
   "cell_type": "code",
   "execution_count": 35,
   "metadata": {},
   "outputs": [
    {
     "data": {
      "text/plain": [
       "'internet of things'"
      ]
     },
     "execution_count": 35,
     "metadata": {},
     "output_type": "execute_result"
    }
   ],
   "source": [
    "# Now the variable 'topic' is bound to the object\n",
    "topic"
   ]
  },
  {
   "cell_type": "code",
   "execution_count": 36,
   "metadata": {},
   "outputs": [],
   "source": [
    "# Multiple assignments\n",
    "year, month = 2018, 'March' "
   ]
  },
  {
   "cell_type": "code",
   "execution_count": 38,
   "metadata": {},
   "outputs": [
    {
     "name": "stdout",
     "output_type": "stream",
     "text": [
      "2018\n",
      "March\n"
     ]
    }
   ],
   "source": [
    "print(year)\n",
    "print(month)"
   ]
  },
  {
   "cell_type": "markdown",
   "metadata": {},
   "source": [
    "#### Executing code conditionally"
   ]
  },
  {
   "cell_type": "code",
   "execution_count": 39,
   "metadata": {},
   "outputs": [
    {
     "name": "stdout",
     "output_type": "stream",
     "text": [
      "positive but smaller than 4\n"
     ]
    }
   ],
   "source": [
    "# if/elif/else syntax\n",
    "x = 2\n",
    "\n",
    "if x < 0:\n",
    "    print('negative')\n",
    "elif x == 0:\n",
    "    print('equal to 0')\n",
    "elif 0 < x < 4 :\n",
    "    print('positive but smaller than 4')\n",
    "else:\n",
    "    print('higher than 4')"
   ]
  },
  {
   "cell_type": "markdown",
   "metadata": {},
   "source": [
    "#### For loop: traversing a list"
   ]
  },
  {
   "cell_type": "code",
   "execution_count": 40,
   "metadata": {},
   "outputs": [
    {
     "name": "stdout",
     "output_type": "stream",
     "text": [
      "Trying to connect to 176.149.135.210\n",
      "Trying to connect to 176.149.135.211\n",
      "Trying to connect to 176.149.135.212\n"
     ]
    }
   ],
   "source": [
    "ip_address = ['176.149.135.210', \n",
    "              '176.149.135.211', \n",
    "              '176.149.135.212']\n",
    "\n",
    "for address in ip_address:\n",
    "    print(\"Trying to connect to \" + address)"
   ]
  },
  {
   "cell_type": "markdown",
   "metadata": {},
   "source": [
    "## ▸ Function statements to:\n",
    "___\n",
    "\n",
    "* **re-use code** / **DRY**: Don't Repeat Yourself\n",
    "* **abstract** and hide unecessary details\n",
    "* create a new **namespace**\n",
    "\n",
    "\n",
    "### Notes\n",
    "* DRY: Don’t Repeat Yourself. Rule of thumb: whenever you find yourself copying and pasting code snippets more than two times, this is a good signal indicating you should write a function instead.\n",
    "* When attached to an object, a function is called a method\n",
    "* The notion of namespace/scope will be covered later on (Python Essentials)\n"
   ]
  },
  {
   "cell_type": "markdown",
   "metadata": {},
   "source": [
    "## ▸ Function statement [Notebook Live Demo]\n",
    "___\n",
    "\n",
    "* Basic syntax\n",
    "* Arguments \n",
    "* Canonical function\n",
    "\n",
    "### References\n",
    "* https://docs.python.org/3/tutorial/controlflow.html#defining-functions\n",
    "\n",
    "### Notes\n",
    "* [Teacher] Dedicate 5-10 min to the code snippet below showing and executing code live\n",
    "* [Student] Be sure to run and understand the following code snippets before answering module's assignment"
   ]
  },
  {
   "cell_type": "markdown",
   "metadata": {},
   "source": [
    "#### Function statements basic syntax"
   ]
  },
  {
   "cell_type": "code",
   "execution_count": 41,
   "metadata": {},
   "outputs": [],
   "source": [
    "# Function declaration statement\n",
    "# IMPORTANT: INDENTATION as code block specifier as opposed to languages like C,\n",
    "# Javascript, … using curly braces { }\n",
    "\n",
    "def square(x):\n",
    "    return x**2"
   ]
  },
  {
   "cell_type": "code",
   "execution_count": 42,
   "metadata": {},
   "outputs": [
    {
     "data": {
      "text/plain": [
       "64"
      ]
     },
     "execution_count": 42,
     "metadata": {},
     "output_type": "execute_result"
    }
   ],
   "source": [
    "# Function call statement\n",
    "square(8)"
   ]
  },
  {
   "cell_type": "markdown",
   "metadata": {},
   "source": [
    "#### Positional vs keyword arguments"
   ]
  },
  {
   "cell_type": "code",
   "execution_count": 43,
   "metadata": {},
   "outputs": [],
   "source": [
    "# 'length' and 'width' are positional arguments\n",
    "# 'unit' is a keyword argument (ideal to pass default values)\n",
    "def area(length, width, unit='m2'):\n",
    "    print(\"Area is:\", length*width, unit)"
   ]
  },
  {
   "cell_type": "code",
   "execution_count": 44,
   "metadata": {},
   "outputs": [
    {
     "name": "stdout",
     "output_type": "stream",
     "text": [
      "Area is: 6 m2\n"
     ]
    }
   ],
   "source": [
    "area(2, 3)"
   ]
  },
  {
   "cell_type": "markdown",
   "metadata": {},
   "source": [
    "#### A canonical function"
   ]
  },
  {
   "cell_type": "code",
   "execution_count": 45,
   "metadata": {},
   "outputs": [],
   "source": [
    "# Defining a function and document it with a Docstring\n",
    "def f(x):\n",
    "    \"\"\"\n",
    "    Add value 10 to the argument passed\n",
    "    ...\n",
    "    \n",
    "    Arguments\n",
    "    ---------\n",
    "    x     : int\n",
    "            The integer to which we add 10\n",
    "    \n",
    "    Returns\n",
    "    -------\n",
    "    The sum of x and 10\n",
    "    \"\"\"\n",
    "    return x + 10"
   ]
  },
  {
   "cell_type": "code",
   "execution_count": 46,
   "metadata": {},
   "outputs": [
    {
     "name": "stdout",
     "output_type": "stream",
     "text": [
      "Help on function f in module __main__:\n",
      "\n",
      "f(x)\n",
      "    Add value 10 to the argument passed\n",
      "    ...\n",
      "    \n",
      "    Arguments\n",
      "    ---------\n",
      "    x     : int\n",
      "            The integer to which we add 10\n",
      "    \n",
      "    Returns\n",
      "    -------\n",
      "    The sum of x and 10\n",
      "\n"
     ]
    }
   ],
   "source": [
    "# The Docstring of a function is accessed\n",
    "help(f)"
   ]
  },
  {
   "cell_type": "markdown",
   "metadata": {},
   "source": [
    "## ▸ Module statements to:\n",
    "___\n",
    "\n",
    "* Modularize your code (as you could have guessed)\n",
    "* Re-use existing code base\n",
    "* Extend your toolbox with an extremely large ecosystem\n",
    "\n",
    "\n",
    "### Notes\n",
    "* a module is just a regular Python file\n",
    "* a module creates a new namespace (isolated environment)\n",
    "* a module is essentially a toolbox"
   ]
  },
  {
   "cell_type": "markdown",
   "metadata": {},
   "source": [
    "## ▸ Module statement [Notebook Live Demo]\n",
    "___\n",
    "\n",
    "* import techniques\n",
    "* namespace\n",
    "\n",
    "\n",
    "### References\n",
    "* https://docs.python.org/3/tutorial/modules.html\n",
    "\n",
    "### Notes\n",
    "* [Teacher] Dedicate 5 min to the code snippet below showing and executing code live\n",
    "* [Student] Be sure to run and understand the following code snippets before answering module's assignment"
   ]
  },
  {
   "cell_type": "code",
   "execution_count": 47,
   "metadata": {},
   "outputs": [
    {
     "data": {
      "text/plain": [
       "3.141592653589793"
      ]
     },
     "execution_count": 47,
     "metadata": {},
     "output_type": "execute_result"
    }
   ],
   "source": [
    "# Import the whole 'math' module and\n",
    "# access one of its attribute 'pi' using the 'dot' notation\n",
    "import math\n",
    "\n",
    "math.pi"
   ]
  },
  {
   "cell_type": "code",
   "execution_count": 48,
   "metadata": {},
   "outputs": [
    {
     "data": {
      "text/plain": [
       "3.0"
      ]
     },
     "execution_count": 48,
     "metadata": {},
     "output_type": "execute_result"
    }
   ],
   "source": [
    "# Import only the 'sqrt' function from the 'math' module\n",
    "from math import sqrt\n",
    "\n",
    "sqrt(9)"
   ]
  },
  {
   "cell_type": "markdown",
   "metadata": {},
   "source": [
    "## ▸ Quick recap\n",
    "___\n",
    "\n",
    "* Everything in Python is an **object**\n",
    "* Every object as a **type**\n",
    "* Python provides many **built-in types**\n",
    "* Objects are combined using **expressions**\n",
    "* All the above are “stuffs”\n",
    "* And you can do something with these “stuffs” using **statements**\n",
    "\n"
   ]
  },
  {
   "cell_type": "markdown",
   "metadata": {},
   "source": [
    "## ▸ Quiz 1\n",
    "___\n",
    "<a class='quiz-nb'></a>\n",
    "\n",
    "1. Mention 5 Python built-in data types\n",
    "2. What is Dynamic Typing?\n",
    "3. How do you specify a comment?\n",
    "4. How do you specify a block code?\n",
    "5. What is a module for?\n",
    "\n",
    "## Notes\n",
    "* See above cells for answers"
   ]
  },
  {
   "cell_type": "markdown",
   "metadata": {},
   "source": [
    "# III. PYTHON'S LIFELINE\n",
    "<a id=\"python-lifeline\"></a>\n",
    "___"
   ]
  },
  {
   "cell_type": "markdown",
   "metadata": {},
   "source": [
    "## ▸ Python essentials\n",
    "___\n",
    "\n",
    "* Python language has a **relatively low entry barrier**\n",
    "* BUT some implementation **\"details“ must be known**\n",
    "* **Might save you precious hours**\n"
   ]
  },
  {
   "cell_type": "markdown",
   "metadata": {},
   "source": [
    "## ▸ Essentials you must know\n",
    "* The notion of **scope**\n",
    "* What is a** shared reference**\n",
    "* Various ways to create copies of **mutable types**"
   ]
  },
  {
   "cell_type": "markdown",
   "metadata": {},
   "source": [
    "## ▸ Scope and Namespaces\n",
    "* Objects can be assigned, references in **various parts of your program**\n",
    "* From place to place, their **\"visibility\" changes**\n",
    "* Each object lives in its **own scope, namespace (isolated region)**\n",
    "\n",
    "### Notes\n",
    "* Remind that an assignement is when you bind a name to an object and a reference when you want to retrieve an object in memory using previously bound name(s)"
   ]
  },
  {
   "cell_type": "markdown",
   "metadata": {},
   "source": [
    "## ▸ Scope mnemonics: the LOG rule\n",
    "\n",
    "![scopes.png](img/scopes.png)\n",
    "\n",
    "### Notes\n",
    "* You noticed that we can assign and reference a variable in different locations and that might be ambiguous. To clarify these situations, a simple rule is defined based on notions of **namespace**, **scope** and **block code** which simply define, loosely speaking, regions of your code. \n",
    "\n",
    "* A mnemotechnic way to remember this rule is the acronym **LOG**: **L**ocal (in function's body), **O**uter function (in \"englobing\" functions), **G**lobal (outside functions - module scope)"
   ]
  },
  {
   "cell_type": "markdown",
   "metadata": {},
   "source": [
    "## ▸ Scope [Notebook Live Demo]\n",
    "___\n",
    "\n",
    "* **Example 1**: global scope\n",
    "* **Example 2**: local and global scope\n",
    "* **Example 3**: locals (with nested functions) and global scope\n",
    "\n",
    "### Notes\n",
    "* [Teacher] Dedicate 10-20 min to the code snippet below showing and executing code live\n",
    "* [Student] Be sure to run and understand the following code snippets before answering module's assignment"
   ]
  },
  {
   "cell_type": "markdown",
   "metadata": {},
   "source": [
    "#### Example 1: global scope"
   ]
  },
  {
   "cell_type": "code",
   "execution_count": 49,
   "metadata": {},
   "outputs": [
    {
     "name": "stdout",
     "output_type": "stream",
     "text": [
      "1\n",
      "1\n",
      "1\n"
     ]
    }
   ],
   "source": [
    "a, b = 1, 1 \n",
    "for i in range(3):\n",
    "    print(a) # What's the value of a ?"
   ]
  },
  {
   "cell_type": "markdown",
   "metadata": {},
   "source": [
    "#### Question: What's the value of `a` when printed in the `for` loop? \n",
    "\n",
    "1. Is **`a`** assigned in **L**ocal scope (function's body)? **NO**\n",
    "2. Is **`a`** assigned in **O**uter function(s)? **NO**\n",
    "2. Is **`a`** assigned in **G**lobal scope (outside any functions in my program's file)? **YES**  and it has value **`1`**."
   ]
  },
  {
   "cell_type": "markdown",
   "metadata": {},
   "source": [
    "#### Example 2: local and global scope"
   ]
  },
  {
   "cell_type": "code",
   "execution_count": 50,
   "metadata": {},
   "outputs": [],
   "source": [
    "a, b = 1, 1 \n",
    "\n",
    "def f():\n",
    "    b, c = 2, 3\n",
    "    print(a, b, c)"
   ]
  },
  {
   "cell_type": "markdown",
   "metadata": {},
   "source": [
    "#### Question: What's the values of **`a, b, c`** when printed in function's body? \n",
    " \n",
    "** The case of `a`:** \n",
    "1. Is **`a`** assigned in **L**ocal scope? **NO**\n",
    "2. Is **`a`** assigned in **O**uter function(s)? **NO**\n",
    "2. Is **`a`** assigned in **G**lobal scope?  **YES**  and it has value **`1`**.\n",
    "\n",
    "** The case of `b`:** \n",
    "1. Is **`b`** assigned in **L**ocal scope? **YES** and it has value **`2`**.\n",
    "\n",
    "** The case of `c`:** \n",
    "1. Is **`c`** assigned in **L**ocal scope? **YES** and it has value **`3`**."
   ]
  },
  {
   "cell_type": "code",
   "execution_count": 51,
   "metadata": {},
   "outputs": [
    {
     "name": "stdout",
     "output_type": "stream",
     "text": [
      "1 2 3\n"
     ]
    }
   ],
   "source": [
    "# Let's check\n",
    "f()"
   ]
  },
  {
   "cell_type": "markdown",
   "metadata": {},
   "source": [
    "#### Example 3: locals (with nested functions) and global scope"
   ]
  },
  {
   "cell_type": "code",
   "execution_count": 52,
   "metadata": {},
   "outputs": [],
   "source": [
    "a, b, c = 1, 1, 1\n",
    "\n",
    "def g():\n",
    "    b, c = 2, 3\n",
    "    def h():\n",
    "        c = 5\n",
    "        print(a, b, c)\n",
    "    h()"
   ]
  },
  {
   "cell_type": "markdown",
   "metadata": {},
   "source": [
    "#### What will be the values of printed **`a, b, c`** in function **`h`**?\n",
    "\n",
    "** The case of `a`**\n",
    "1. **`a`** is not assigned in h (local scope)\n",
    "2. **`a`** is not assigned in g (local scope - outer function)\n",
    "3. **`a`** is assigned in global scope -> **`a`** = 1\n",
    "\n",
    "** The case of `b`**\n",
    "1. **`b`** is not assigned in h (local scope)\n",
    "2. **`b`** is assigned in g (local scope - outer function) -> **`b`** = 2\n",
    "\n",
    "** The case of `c`**\n",
    "1. **`c`** is assigned in h (local scope) -> **`c`** = 5"
   ]
  },
  {
   "cell_type": "code",
   "execution_count": 53,
   "metadata": {},
   "outputs": [
    {
     "name": "stdout",
     "output_type": "stream",
     "text": [
      "1 2 5\n"
     ]
    }
   ],
   "source": [
    "# Let's check\n",
    "g()"
   ]
  },
  {
   "cell_type": "markdown",
   "metadata": {},
   "source": [
    "## ▸ Shared references\n",
    "* An **extremely important notion** in Python \n",
    "* Potential **source of many bugs**\n",
    "* Problem arises when two variables **reference the same object**\n",
    "\n",
    "### Notes\n",
    "* This notion highlights as well the importance of the distinction between **mutable** and **immutable** data type"
   ]
  },
  {
   "cell_type": "markdown",
   "metadata": {},
   "source": [
    "## ▸ Shared references [Notebook Live Demo]\n",
    "___\n",
    "\n",
    "* Case 1: immutable objects\n",
    "* Case 2: mutable objects\n",
    "* Case 3: shallow copy\n",
    "* Case 4: Deep copy\n",
    "\n",
    "### References\n",
    "* http://www.pythontutor.com/\n",
    "\n",
    "### Notes\n",
    "* Spend some minutes playing around with http://www.pythontutor.com/ visualizing shared references notion"
   ]
  },
  {
   "cell_type": "markdown",
   "metadata": {},
   "source": [
    "#### Case 1: immmutable objects (works as expected)"
   ]
  },
  {
   "cell_type": "code",
   "execution_count": 54,
   "metadata": {},
   "outputs": [
    {
     "name": "stdout",
     "output_type": "stream",
     "text": [
      "23 23\n"
     ]
    }
   ],
   "source": [
    "# Let's assign an immmutable object to a first variable\n",
    "a = 23\n",
    "\n",
    "# Now let's bind a second variable to the same object\n",
    "b = a\n",
    "\n",
    "print(a, b)"
   ]
  },
  {
   "cell_type": "code",
   "execution_count": 55,
   "metadata": {},
   "outputs": [
    {
     "name": "stdout",
     "output_type": "stream",
     "text": [
      "23\n"
     ]
    }
   ],
   "source": [
    "# Modify a\n",
    "a = 57\n",
    "# and check b\n",
    "print(b)"
   ]
  },
  {
   "cell_type": "markdown",
   "metadata": {},
   "source": [
    "#### Case 2: mutable objects"
   ]
  },
  {
   "cell_type": "code",
   "execution_count": 56,
   "metadata": {},
   "outputs": [],
   "source": [
    "# Assign a list to variable \"a\"\n",
    "a = [1, 2]\n",
    "\n",
    "# Bind b to the same list\n",
    "b = a"
   ]
  },
  {
   "cell_type": "code",
   "execution_count": 57,
   "metadata": {},
   "outputs": [
    {
     "name": "stdout",
     "output_type": "stream",
     "text": [
      "[1, 'spam']\n",
      "[1, 'spam']\n"
     ]
    }
   ],
   "source": [
    "# Now, modify the list\n",
    "a[1] = 'spam'\n",
    "print(a)\n",
    "\n",
    "# and check b\n",
    "print(b)\n",
    "\n",
    "# This is what we expect as a and b refer to the same object and that you are updating it."
   ]
  },
  {
   "cell_type": "markdown",
   "metadata": {},
   "source": [
    "#### Case 3: Shallow copy"
   ]
  },
  {
   "cell_type": "code",
   "execution_count": 58,
   "metadata": {},
   "outputs": [
    {
     "name": "stdout",
     "output_type": "stream",
     "text": [
      "[1, 2] [1, 2]\n"
     ]
    }
   ],
   "source": [
    "a = [1, 2]\n",
    "\n",
    "# the shallow copy (copy of first level) - you create a new object\n",
    "b = a[:] \n",
    "\n",
    "print(a, b)"
   ]
  },
  {
   "cell_type": "code",
   "execution_count": 59,
   "metadata": {},
   "outputs": [
    {
     "name": "stdout",
     "output_type": "stream",
     "text": [
      "[1, 'spam']\n"
     ]
    }
   ],
   "source": [
    "# Let's update the first object\n",
    "a[1] = 'spam'\n",
    "print(a)"
   ]
  },
  {
   "cell_type": "code",
   "execution_count": 60,
   "metadata": {},
   "outputs": [
    {
     "name": "stdout",
     "output_type": "stream",
     "text": [
      "[1, 2]\n"
     ]
    }
   ],
   "source": [
    "# and check if b has been updated\n",
    "print(b)"
   ]
  },
  {
   "cell_type": "code",
   "execution_count": 61,
   "metadata": {},
   "outputs": [],
   "source": [
    "#### Case 4: Deep copy"
   ]
  },
  {
   "cell_type": "markdown",
   "metadata": {},
   "source": [
    "#### Case 4: Deep copy (when nested objects)"
   ]
  },
  {
   "cell_type": "code",
   "execution_count": 62,
   "metadata": {},
   "outputs": [
    {
     "name": "stdout",
     "output_type": "stream",
     "text": [
      "[1, [2, 3]]\n"
     ]
    }
   ],
   "source": [
    "# For instance, with nested list\n",
    "a = [1, [2, 3]]\n",
    "print(a)"
   ]
  },
  {
   "cell_type": "code",
   "execution_count": 63,
   "metadata": {},
   "outputs": [
    {
     "name": "stdout",
     "output_type": "stream",
     "text": [
      "[1, [2, 99]]\n"
     ]
    }
   ],
   "source": [
    "b = a[:]\n",
    "a[1][1] = 99\n",
    "print(a)"
   ]
  },
  {
   "cell_type": "code",
   "execution_count": 64,
   "metadata": {},
   "outputs": [
    {
     "name": "stdout",
     "output_type": "stream",
     "text": [
      "[1, [2, 99]]\n"
     ]
    }
   ],
   "source": [
    "# This is the source of many bugs!!!\n",
    "print(b)"
   ]
  },
  {
   "cell_type": "code",
   "execution_count": 65,
   "metadata": {},
   "outputs": [],
   "source": [
    "# Import \"copy\" module\n",
    "import copy\n",
    "\n",
    "a = [1, [2, 3]]\n",
    "b = copy.deepcopy(a) # you create a fresh new objects at every nested levels"
   ]
  },
  {
   "cell_type": "code",
   "execution_count": 66,
   "metadata": {},
   "outputs": [
    {
     "name": "stdout",
     "output_type": "stream",
     "text": [
      "[1, [2, 99]]\n"
     ]
    }
   ],
   "source": [
    "a[1][1] = 99\n",
    "print(a)"
   ]
  },
  {
   "cell_type": "code",
   "execution_count": 67,
   "metadata": {},
   "outputs": [
    {
     "name": "stdout",
     "output_type": "stream",
     "text": [
      "[1, [2, 3]]\n"
     ]
    }
   ],
   "source": [
    "print(b)"
   ]
  },
  {
   "cell_type": "markdown",
   "metadata": {},
   "source": [
    "## ▸ Shared references visualized\n",
    "___\n",
    "\n",
    "* Visualizing **one of the most important source of bugs**\n",
    "* Using http://www.pythontutor.com/\n",
    "\n",
    "### References\n",
    "* http://www.pythontutor.com/"
   ]
  },
  {
   "cell_type": "markdown",
   "metadata": {},
   "source": [
    "## ▸ Typical shared reference situation\n",
    "___\n",
    "\n",
    "![shared-reference.png](img/shared-reference.png)\n",
    "\n",
    "### Notes\n",
    "* a and b are just two different variables binding the same list object. You can retrieve and update the object from both \"ways\""
   ]
  },
  {
   "cell_type": "markdown",
   "metadata": {},
   "source": [
    "## ▸ Shallow copy\n",
    "___\n",
    "\n",
    "![shallow-copy.png](img/shallow-copy.png)\n",
    "\n",
    "### Notes\n",
    "* To circumvent default shared reference mechanism, you can \"clone“ the original object, using the [:] Python idiom"
   ]
  },
  {
   "cell_type": "markdown",
   "metadata": {},
   "source": [
    "## ▸ Shared reference's hell!\n",
    "\n",
    "![shared-reference-hell.png](img/shared-reference-hell.png)\n",
    "\n",
    "### Notes\n",
    "* At first glance, you might think that you've created a clone of the a object and that you can safely update it without affecting b ...\n",
    "* But in the case of nested objects, the shallow copy trick (as the term suggests) simply copy the top level of the \"hierarchy\"/tree and b's second element is still referencing the same list as a's second element. This is barely an expected behaviour!\n",
    "* Instead, perform a deep copy (see next slide)"
   ]
  },
  {
   "cell_type": "markdown",
   "metadata": {},
   "source": [
    "## ▸ Deep copy to the rescue\n",
    "\n",
    "![deep-copy-rescue.png](img/deep-copy-rescue.png)\n",
    "\n",
    "### Notes\n",
    "* Back both feet on the ground!"
   ]
  },
  {
   "cell_type": "markdown",
   "metadata": {},
   "source": [
    "## ▸ Quiz 2\n",
    "___\n",
    "<a class='quiz-nb'></a>\n",
    "\n",
    "1. What's the mnemonics of scope's rules?\n",
    "2. Are functions' arguments always passed by reference?\n",
    "3. What's the difference between a shallow and deep copy?\n",
    "4. Are immutable data types really useful?\n",
    "\n",
    "## Notes\n",
    "* Answers: 1. LOG (Local, Outer, Global), 2. Yes, 3. (see cells above), 4. Yes (allowing proliferation of program states modifiable all around your code)"
   ]
  },
  {
   "cell_type": "markdown",
   "metadata": {
    "collapsed": true
   },
   "source": [
    "# IV. IDIOMATIC PYTHON\n",
    "<a id=\"idiomatic-python\"></a>\n",
    "___"
   ]
  },
  {
   "cell_type": "markdown",
   "metadata": {},
   "source": [
    "## ▸ The Pythonic way\n",
    "___\n",
    "\n",
    "* **Knowing the syntax and semantic** of a language is a **plus**\n",
    "* To know how it is **used into the wild** by experienced practioners is **a must**\n",
    "* Inspired by the \"Zen of Python\", **Python often has its very own way** to address programming tasks \n",
    "\n",
    "### References\n",
    "* http://python.net/~goodger/projects/pycon/2007/idiomatic/handout.html"
   ]
  },
  {
   "cell_type": "markdown",
   "metadata": {},
   "source": [
    "## ▸ Ex1: Resist counting\n",
    "___\n",
    "![pythonic-ex-1.png](img/pythonic-ex-1.png)\n",
    "\n",
    "### Notes\n",
    "* Anything that can be looped over is called an **Iterator**. Python syntax provides very simple way to loop over them as you see above"
   ]
  },
  {
   "cell_type": "markdown",
   "metadata": {},
   "source": [
    "## ▸ Ex2: List comprehensions\n",
    "\n",
    "![pythonic-ex-2.png](img/pythonic-ex-2.png)\n",
    "\n",
    "### Notes"
   ]
  },
  {
   "cell_type": "markdown",
   "metadata": {},
   "source": [
    "## ▸ Python for Data Science\n",
    "___\n",
    "\n",
    "* Python is **even more idiomatic in Data Science**\n",
    "* **Domain-specific packages**: data cleaning, transformation, visualization, deep learning, ...\n",
    "* **Domain-specific data structures/types**, APIs, programming, computing paradigms\n",
    "\n",
    "\n",
    "### Notes\n",
    "* For instance, for loops are often replaced by vectorized implementation (see NumPy crash course in Data Cleaning, Preparation course)\n",
    "* In providing a high level of abstraction, Data Science packages allow to focus on the data analysis pipeline while hiding uncessary details\n",
    "* Pandas, Numpy, Matplotlib, Scikit-learn and Keras will be used throughout the module\n"
   ]
  },
  {
   "cell_type": "markdown",
   "metadata": {},
   "source": [
    "## ▸ The Pythonic way [Notebook Live Demo]\n",
    "___\n",
    "\n",
    "* Resist counting, List comprehensions\n",
    "* Indexing, slicing a list\n",
    "* Iterators and generators\n",
    "* Data Science \"friendly\" Python types\n",
    "\n",
    "\n",
    "### References\n",
    "* https://anandology.com/python-practice-book/iterators.html\n",
    "* http://python.net/~goodger/projects/pycon/2007/idiomatic/handout.html\n",
    "\n",
    "### Notes\n",
    "* [Teacher] Dedicate 15-30 min to the code snippet below showing and executing code live\n",
    "* [Student] Be sure to run and understand the following code snippets before answering module's assignment"
   ]
  },
  {
   "cell_type": "markdown",
   "metadata": {},
   "source": [
    "#### Resist counting"
   ]
  },
  {
   "cell_type": "code",
   "execution_count": 68,
   "metadata": {},
   "outputs": [
    {
     "name": "stdout",
     "output_type": "stream",
     "text": [
      "1 2 3 4 "
     ]
    }
   ],
   "source": [
    "# If you come from 'C' language you might be tempted to do:\n",
    "my_list = [1, 2, 3, 4]\n",
    "\n",
    "i = 0\n",
    "while i < len(my_list):\n",
    "    print(my_list[i], end=' ')\n",
    "    i += 1"
   ]
  },
  {
   "cell_type": "code",
   "execution_count": 69,
   "metadata": {},
   "outputs": [
    {
     "name": "stdout",
     "output_type": "stream",
     "text": [
      "1 2 3 4 "
     ]
    }
   ],
   "source": [
    "# Instead in Python\n",
    "for i in my_list: \n",
    "    print(i, end = ' ')"
   ]
  },
  {
   "cell_type": "markdown",
   "metadata": {},
   "source": [
    "#### List comprehension"
   ]
  },
  {
   "cell_type": "code",
   "execution_count": 70,
   "metadata": {},
   "outputs": [],
   "source": [
    "my_list = [1, 2, 3, 4]"
   ]
  },
  {
   "cell_type": "code",
   "execution_count": 71,
   "metadata": {},
   "outputs": [
    {
     "name": "stdout",
     "output_type": "stream",
     "text": [
      "[11, 12, 13, 14]\n"
     ]
    }
   ],
   "source": [
    "# For instance, you might be tempted to update a given list as follows:\n",
    "my_list = [1, 2, 3, 4]\n",
    "\n",
    "# Get a new list with each element doubled\n",
    "for i, el in enumerate(my_list):\n",
    "    my_list[i] += 10\n",
    "    \n",
    "print(my_list)"
   ]
  },
  {
   "cell_type": "code",
   "execution_count": 72,
   "metadata": {},
   "outputs": [
    {
     "data": {
      "text/plain": [
       "[21, 22, 23, 24]"
      ]
     },
     "execution_count": 72,
     "metadata": {},
     "output_type": "execute_result"
    }
   ],
   "source": [
    "# Instead there is a Pythonic way callsed List Comprehension\n",
    "[i + 10 for i in my_list]"
   ]
  },
  {
   "cell_type": "code",
   "execution_count": 73,
   "metadata": {},
   "outputs": [
    {
     "data": {
      "text/plain": [
       "[21, 23]"
      ]
     },
     "execution_count": 73,
     "metadata": {},
     "output_type": "execute_result"
    }
   ],
   "source": [
    "[i + 10 for i in my_list if i%2]"
   ]
  },
  {
   "cell_type": "markdown",
   "metadata": {},
   "source": [
    "#### Indexing and Slicing a list"
   ]
  },
  {
   "cell_type": "code",
   "execution_count": 74,
   "metadata": {},
   "outputs": [],
   "source": [
    "my_list = [12, 34, 'iot', 'itu']"
   ]
  },
  {
   "cell_type": "code",
   "execution_count": 75,
   "metadata": {},
   "outputs": [
    {
     "data": {
      "text/plain": [
       "34"
      ]
     },
     "execution_count": 75,
     "metadata": {},
     "output_type": "execute_result"
    }
   ],
   "source": [
    "# Index of element starts at 0\n",
    "# Access second element \n",
    "my_list[1]"
   ]
  },
  {
   "cell_type": "code",
   "execution_count": 76,
   "metadata": {},
   "outputs": [
    {
     "data": {
      "text/plain": [
       "[34, 'iot']"
      ]
     },
     "execution_count": 76,
     "metadata": {},
     "output_type": "execute_result"
    }
   ],
   "source": [
    "# Select from first to second included\n",
    "my_list[1:3]"
   ]
  },
  {
   "cell_type": "code",
   "execution_count": 77,
   "metadata": {},
   "outputs": [
    {
     "data": {
      "text/plain": [
       "[34, 'iot', 'itu']"
      ]
     },
     "execution_count": 77,
     "metadata": {},
     "output_type": "execute_result"
    }
   ],
   "source": [
    "# Select from firt to the end\n",
    "my_list[1:]"
   ]
  },
  {
   "cell_type": "code",
   "execution_count": 78,
   "metadata": {},
   "outputs": [
    {
     "data": {
      "text/plain": [
       "'itu'"
      ]
     },
     "execution_count": 78,
     "metadata": {},
     "output_type": "execute_result"
    }
   ],
   "source": [
    "# Select the last one\n",
    "my_list[-1]"
   ]
  },
  {
   "cell_type": "code",
   "execution_count": 79,
   "metadata": {},
   "outputs": [
    {
     "name": "stdout",
     "output_type": "stream",
     "text": [
      "12\n",
      "34\n",
      "iot\n",
      "itu\n"
     ]
    }
   ],
   "source": [
    "# To get elements one by one\n",
    "for i in my_list:\n",
    "    print(i)"
   ]
  },
  {
   "cell_type": "code",
   "execution_count": 80,
   "metadata": {
    "scrolled": true
   },
   "outputs": [
    {
     "name": "stdout",
     "output_type": "stream",
     "text": [
      "0 12\n",
      "1 34\n",
      "2 iot\n",
      "3 itu\n"
     ]
    }
   ],
   "source": [
    "# If you want both index and element\n",
    "for i, el in enumerate(my_list):\n",
    "    print(i, el)"
   ]
  },
  {
   "cell_type": "markdown",
   "metadata": {},
   "source": [
    "#### Iterators"
   ]
  },
  {
   "cell_type": "code",
   "execution_count": 81,
   "metadata": {},
   "outputs": [
    {
     "name": "stdout",
     "output_type": "stream",
     "text": [
      "1\n",
      "2\n",
      "3\n"
     ]
    }
   ],
   "source": [
    "# Anything that can be looped over (lists, strings, dictionaries, files, ...)\n",
    "for i in [1, 2, 3]:\n",
    "    print(i)"
   ]
  },
  {
   "cell_type": "code",
   "execution_count": 82,
   "metadata": {},
   "outputs": [
    {
     "name": "stdout",
     "output_type": "stream",
     "text": [
      "P\n",
      "y\n",
      "t\n",
      "h\n",
      "o\n",
      "n\n"
     ]
    }
   ],
   "source": [
    "for c in 'Python':\n",
    "    print(c)"
   ]
  },
  {
   "cell_type": "code",
   "execution_count": 83,
   "metadata": {},
   "outputs": [
    {
     "name": "stdout",
     "output_type": "stream",
     "text": [
      "0\n",
      "1\n",
      "2\n",
      "3\n",
      "4\n",
      "5\n",
      "6\n",
      "7\n",
      "8\n",
      "9\n"
     ]
    }
   ],
   "source": [
    "for i in range(10):\n",
    "    print(i)"
   ]
  },
  {
   "cell_type": "markdown",
   "metadata": {},
   "source": [
    "#### Generators"
   ]
  },
  {
   "cell_type": "code",
   "execution_count": 84,
   "metadata": {},
   "outputs": [
    {
     "name": "stdout",
     "output_type": "stream",
     "text": [
      "0\n",
      "1\n",
      "2\n",
      "3\n",
      "4\n",
      "5\n",
      "6\n",
      "7\n",
      "8\n",
      "9\n"
     ]
    }
   ],
   "source": [
    "# A function that behaves like an iterator in a for loop\n",
    "def my_range_generator(stop):\n",
    "    value = 0\n",
    "    while value < stop:\n",
    "        yield value\n",
    "        value += 1\n",
    "\n",
    "for i in my_range_generator(10):\n",
    "    print(i)\n",
    "\n",
    "# A generator \"yields\" values one after another and optimize memory use"
   ]
  },
  {
   "cell_type": "markdown",
   "metadata": {},
   "source": [
    "#### Dictionaries suits structured data"
   ]
  },
  {
   "cell_type": "code",
   "execution_count": 85,
   "metadata": {},
   "outputs": [],
   "source": [
    "# Dictionary as pairs of key: values\n",
    "my_dict = {'year': 2017, 'country': 'El Salvador'}"
   ]
  },
  {
   "cell_type": "code",
   "execution_count": 86,
   "metadata": {},
   "outputs": [
    {
     "data": {
      "text/plain": [
       "2017"
      ]
     },
     "execution_count": 86,
     "metadata": {},
     "output_type": "execute_result"
    }
   ],
   "source": [
    "# Access a specific key\n",
    "my_dict['year']"
   ]
  },
  {
   "cell_type": "code",
   "execution_count": 87,
   "metadata": {},
   "outputs": [
    {
     "name": "stdout",
     "output_type": "stream",
     "text": [
      "{'year': 2017, 'country': 'El Salvador', 'population': 6.5}\n"
     ]
    }
   ],
   "source": [
    "# Add a new key: value pair\n",
    "my_dict['population'] = 6.5\n",
    "print(my_dict)"
   ]
  },
  {
   "cell_type": "code",
   "execution_count": 88,
   "metadata": {},
   "outputs": [
    {
     "name": "stdout",
     "output_type": "stream",
     "text": [
      "Office\n",
      "Home\n",
      "Mobile\n"
     ]
    }
   ],
   "source": [
    "# Loop over keys\n",
    "my_dict = {'Office':'521-8976', 'Home': '521-1234', 'Mobile': '521-9655'}\n",
    "\n",
    "for key in my_dict:\n",
    "    print(key)"
   ]
  },
  {
   "cell_type": "code",
   "execution_count": 89,
   "metadata": {},
   "outputs": [
    {
     "name": "stdout",
     "output_type": "stream",
     "text": [
      "521-8976\n",
      "521-1234\n",
      "521-9655\n"
     ]
    }
   ],
   "source": [
    "# or over values\n",
    "for value in my_dict.values():\n",
    "    print(value)"
   ]
  },
  {
   "cell_type": "code",
   "execution_count": 90,
   "metadata": {},
   "outputs": [
    {
     "name": "stdout",
     "output_type": "stream",
     "text": [
      "('Office', '521-8976')\n",
      "('Home', '521-1234')\n",
      "('Mobile', '521-9655')\n"
     ]
    }
   ],
   "source": [
    "# or over items\n",
    "for item in my_dict.items():\n",
    "    print(item)"
   ]
  }
 ],
 "metadata": {
  "kernelspec": {
   "display_name": "Python 3",
   "language": "python",
   "name": "python3"
  },
  "language_info": {
   "codemirror_mode": {
    "name": "ipython",
    "version": 3
   },
   "file_extension": ".py",
   "mimetype": "text/x-python",
   "name": "python",
   "nbconvert_exporter": "python",
   "pygments_lexer": "ipython3",
   "version": "3.6.7"
  }
 },
 "nbformat": 4,
 "nbformat_minor": 2
}
